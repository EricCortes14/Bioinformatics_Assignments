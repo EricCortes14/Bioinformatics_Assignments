{
 "cells": [
  {
   "cell_type": "code",
   "execution_count": 358,
   "metadata": {},
   "outputs": [],
   "source": [
    "import pandas as pd\n",
    "from sklearn.ensemble import RandomForestClassifier\n",
    "from sklearn import metrics\n",
    "from sklearn.model_selection import train_test_split\n",
    "from sklearn.model_selection import KFold"
   ]
  },
  {
   "cell_type": "code",
   "execution_count": 359,
   "metadata": {},
   "outputs": [],
   "source": [
    "#Import the file as a tsv file and add to dataframe\n",
    "data = pd.read_csv(\"SomervilleHappinessSurvey2015.txt\")\n",
    "\n",
    "#Specify the x and y variables of both train and test data\n",
    "x = data[['X1', 'X2', 'X3', \"X4\", \"X5\", \"X6\"]]\n",
    "y = data['D']\n",
    "\n",
    "#Obtain train and test data\n",
    "x_train, x_test, y_train, y_test = train_test_split(x, y, test_size=0.25)"
   ]
  },
  {
   "cell_type": "code",
   "execution_count": 491,
   "metadata": {},
   "outputs": [
    {
     "name": "stdout",
     "output_type": "stream",
     "text": [
      "Accuracy: 0.5555555555555556\n"
     ]
    }
   ],
   "source": [
    "#Build random forest\n",
    "model = RandomForestClassifier(n_estimators = 10, max_features = 4)\n",
    "\n",
    "#Train random forest\n",
    "model.fit(x_train, y_train)\n",
    "\n",
    "#Test prediction of rating\n",
    "testPrediction = model.predict(x_test)\n",
    "\n",
    "#Print accuracy\n",
    "print(\"Accuracy:\", metrics.accuracy_score(y_test, testPrediction))"
   ]
  },
  {
   "cell_type": "code",
   "execution_count": null,
   "metadata": {},
   "outputs": [],
   "source": []
  }
 ],
 "metadata": {
  "kernelspec": {
   "display_name": "Python 3",
   "language": "python",
   "name": "python3"
  },
  "language_info": {
   "codemirror_mode": {
    "name": "ipython",
    "version": 3
   },
   "file_extension": ".py",
   "mimetype": "text/x-python",
   "name": "python",
   "nbconvert_exporter": "python",
   "pygments_lexer": "ipython3",
   "version": "3.7.4"
  }
 },
 "nbformat": 4,
 "nbformat_minor": 4
}
