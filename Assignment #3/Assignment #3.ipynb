{
 "cells": [
  {
   "cell_type": "code",
   "execution_count": 1,
   "metadata": {},
   "outputs": [],
   "source": [
    "import csv\n",
    "\n",
    "#This method obtains the desired data from a file\n",
    "def obtainData (dataFile, column):\n",
    "    \n",
    "    #List of the data\n",
    "    dataList = []\n",
    "    \n",
    "    #Open file as a tsvfile\n",
    "    with open(dataFile) as tsvfile:\n",
    "        \n",
    "        #Use csv reader to parse through file with specified delimiter\n",
    "        tsvReader = csv.reader(tsvfile, delimiter = '\\t')\n",
    "        next(tsvReader) \n",
    "            \n",
    "        #Loop to traverse line by line the .tsv file\n",
    "        for line in tsvReader:\n",
    "            \n",
    "            #Obtain next data point and cast as a float\n",
    "            data = float(line[column])\n",
    "                \n",
    "            #Append desired data to the dataList\n",
    "            dataList.append(data)\n",
    "            \n",
    "    #Return the data list   \n",
    "    return dataList"
   ]
  },
  {
   "cell_type": "code",
   "execution_count": 3,
   "metadata": {},
   "outputs": [
    {
     "name": "stdout",
     "output_type": "stream",
     "text": [
      "----------------------------------------------------\n",
      "Jaccard T-Test:\n",
      "T-Statistic:  -18.884893194658503\n",
      "P-Value:  1.6019656955576643e-67\n",
      "Machine Jaccard Scores Mean:  0.27578901061123107\n",
      "Human Jaccard Scores Mean:  0.7321378806781857\n",
      "\n",
      "----------------------------------------------------\n",
      "Resnick T-Test:\n",
      "T-Statistic:  -22.83635734965728\n",
      "P-Value:  7.107889236672209e-92\n",
      "Machine Resnik Scores Mean:  0.42902210361123105\n",
      "Human Resnik Scores Mean:  0.8648650540518359\n"
     ]
    }
   ],
   "source": [
    "from scipy import stats\n",
    "import numpy as np\n",
    "\n",
    "#Variable containing data file name\n",
    "dataFile = \"SemanticSimilarityScores.tsv\"\n",
    "\n",
    "#Lists containing the values for each column\n",
    "machineJaccardScores = obtainData(dataFile, 1)\n",
    "machineResnickScores = obtainData(dataFile, 2)\n",
    "humanJaccardScores = obtainData(dataFile, 3)\n",
    "humanResnickScores = obtainData(dataFile, 4)\n",
    "\n",
    "#Preform T-Test for Jaccard and Resnick scores of the machine and human\n",
    "jaccardTTest = stats.ttest_ind(machineJaccardScores, humanJaccardScores)\n",
    "resnickTTest = stats.ttest_ind(machineResnickScores, humanResnickScores)\n",
    "\n",
    "#Calculate means for jaccard and resnick scores\n",
    "machineJaccardScoresMean = np.mean(machineJaccardScores)\n",
    "machineResnickScoresMean = np.mean(machineResnickScores)\n",
    "humanJaccardScoresMean = np.mean(humanJaccardScores)\n",
    "humanResnickScoresMean = np.mean(humanResnickScores)\n",
    "\n",
    "#Print results\n",
    "print(\"----------------------------------------------------\")\n",
    "print(\"Jaccard T-Test:\")\n",
    "print(\"T-Statistic: \", jaccardTTest[0])\n",
    "print(\"P-Value: \", jaccardTTest[1])\n",
    "print(\"Machine Jaccard Scores Mean: \", machineJaccardScoresMean)\n",
    "print(\"Human Jaccard Scores Mean: \", humanJaccardScoresMean)\n",
    "\n",
    "print()\n",
    "\n",
    "print(\"----------------------------------------------------\")\n",
    "print(\"Resnick T-Test:\")\n",
    "print(\"T-Statistic: \", resnickTTest[0])\n",
    "print(\"P-Value: \", resnickTTest[1])\n",
    "print(\"Machine Resnik Scores Mean: \", machineResnickScoresMean)\n",
    "print(\"Human Resnik Scores Mean: \", humanResnickScoresMean)"
   ]
  },
  {
   "cell_type": "code",
   "execution_count": null,
   "metadata": {},
   "outputs": [],
   "source": []
  }
 ],
 "metadata": {
  "kernelspec": {
   "display_name": "Python 3",
   "language": "python",
   "name": "python3"
  },
  "language_info": {
   "codemirror_mode": {
    "name": "ipython",
    "version": 3
   },
   "file_extension": ".py",
   "mimetype": "text/x-python",
   "name": "python",
   "nbconvert_exporter": "python",
   "pygments_lexer": "ipython3",
   "version": "3.7.4"
  }
 },
 "nbformat": 4,
 "nbformat_minor": 2
}
